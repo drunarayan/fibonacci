{
 "cells": [
  {
   "cell_type": "markdown",
   "id": "cc855194-92fb-4353-bf68-9361dce7a187",
   "metadata": {},
   "source": [
    "# The command below will create a gif file from the time-lapse images we have been collecting!"
   ]
  },
  {
   "cell_type": "markdown",
   "id": "64f4056e-06ca-4295-a114-fb116ac777cd",
   "metadata": {},
   "source": [
    "# Talk to me about how you can modify this for your Time-Lapse"
   ]
  },
  {
   "cell_type": "code",
   "execution_count": null,
   "id": "70e420c5-6e0c-41a8-9664-653f94216146",
   "metadata": {},
   "outputs": [],
   "source": [
    "!ffmpeg -y -framerate 15 -start_number 5 -i 'images/image%4d.jpg' -vf \"fps=15,rotate=PI,scale=1600:1200,crop=800:600\" -pix_fmt \"bgr8\" images/out.gif"
   ]
  },
  {
   "cell_type": "code",
   "execution_count": null,
   "id": "bd8e187f-f5cc-4662-924f-04049bd0f2c5",
   "metadata": {},
   "outputs": [],
   "source": []
  }
 ],
 "metadata": {
  "kernelspec": {
   "display_name": "Python 3 (ipykernel)",
   "language": "python",
   "name": "python3"
  },
  "language_info": {
   "codemirror_mode": {
    "name": "ipython",
    "version": 3
   },
   "file_extension": ".py",
   "mimetype": "text/x-python",
   "name": "python",
   "nbconvert_exporter": "python",
   "pygments_lexer": "ipython3",
   "version": "3.9.2"
  }
 },
 "nbformat": 4,
 "nbformat_minor": 5
}

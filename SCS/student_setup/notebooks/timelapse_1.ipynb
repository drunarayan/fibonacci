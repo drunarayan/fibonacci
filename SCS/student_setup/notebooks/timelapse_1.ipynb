{
 "cells": [
  {
   "cell_type": "code",
   "execution_count": null,
   "id": "0bfbb996-ef3c-4841-b127-f757490e2062",
   "metadata": {},
   "outputs": [],
   "source": [
    "def get_startframe(base, dirn):\n",
    "    scr = script_dir+\"/get_startframe.sh\"\n",
    "    return [scr,base,dirn]"
   ]
  },
  {
   "cell_type": "code",
   "execution_count": null,
   "id": "eec56d3a-5ad5-4138-ab05-5df399e2b7bd",
   "metadata": {},
   "outputs": [],
   "source": [
    "def capture_image(deg, frm, base, dirn):\n",
    "        pgm = \"/usr/local/bin/libcamera-still\"\n",
    "        rot = \"--rotation\"\n",
    "        rvl = deg \n",
    "        pre = \"--nopreview\" \n",
    "        fcs = \"--autofocus\"\n",
    "        out = \"--output\" \n",
    "        ovl=dirn+\"/\"+base+\"{:04d}.jpg\".format(frm)\n",
    "        return [pgm,rot,rvl,pre,fcs,out,ovl,fcs]"
   ]
  },
  {
   "cell_type": "code",
   "execution_count": null,
   "id": "259835e5-d94b-4e79-a40a-67131c0937fb",
   "metadata": {},
   "outputs": [],
   "source": [
    "def capture_timelapse(deg, frm, base, dirn, dur, tml):\n",
    "        pgm = \"/usr/local/bin/libcamera-still\"\n",
    "        rot = \"--rotation\"\n",
    "        rvl = deg\n",
    "        ovt = \"-t\"\n",
    "        odur = dur\n",
    "        tmt = \"--timelapse\"\n",
    "        tdur = tml\n",
    "        fst = \"--framestart\"\n",
    "        fvl = str(frm)\n",
    "        pre = \"--nopreview\" \n",
    "        fcs = \"--autofocus\"\n",
    "        out = \"--output\" \n",
    "        ovl=dirn+\"/\"+base+\"%04d.jpg\"\n",
    "        return [pgm,rot,rvl,ovt,odur,tmt,tdur,fst,fvl,out,ovl,pre]"
   ]
  },
  {
   "cell_type": "code",
   "execution_count": null,
   "id": "95b40719-197d-4b53-9069-4974452ed410",
   "metadata": {},
   "outputs": [],
   "source": [
    "# Capture A Single Image first for getting good focus into a directory\n",
    "import os, subprocess\n",
    "\n",
    "home_dir = '/home/pi'\n",
    "notes_dir = home_dir+\"/notebooks\"\n",
    "script_dir = notes_dir+\"/scripts\"\n",
    "\n",
    "basename = \"focusimage\"\n",
    "dirname = notes_dir+\"/timelapse\"\n",
    "\n",
    "cmd = get_startframe(basename, dirname)\n",
    "output = subprocess.run(cmd, capture_output=True, text=True, check=True)\n",
    "startframe = int(output.stdout)\n",
    "\n",
    "rotation = \"180\"\n",
    "\n",
    "cmd = capture_image(rotation, startframe, basename, dirname)\n",
    "print(cmd)\n",
    "output = subprocess.run(cmd, capture_output=True, text=True, check=True)"
   ]
  },
  {
   "cell_type": "code",
   "execution_count": null,
   "id": "8e3436ff-b86a-40d0-8f0c-751938a5f00a",
   "metadata": {},
   "outputs": [],
   "source": [
    "# Capture Timelapse Images into a directory\n",
    "import os, subprocess\n",
    "\n",
    "home_dir = \"/home/pi\"\n",
    "notes_dir = home_dir+\"/notebooks\"\n",
    "script_dir = notes_dir+\"/scripts\"\n",
    "\n",
    "basename = \"tlimage\"\n",
    "dirname = notes_dir+\"/timelapse\"\n",
    "\n",
    "cmd = get_startframe(basename, dirname)\n",
    "output = subprocess.run(cmd, capture_output=True, text=True, check=True)\n",
    "startframe = int(output.stdout)\n",
    "\n",
    "rotation = \"180\"\n",
    "\n",
    "# Capture Time Lapse Images\n",
    "duration = \"60000\"\n",
    "timelapse = \"1000\"\n",
    "\n",
    "try:\n",
    "    cmd = capture_timelapse(rotation, startframe, basename, dirname, duration, timelapse)\n",
    "    output = subprocess.run(cmd, capture_output=True, text=True, check=True)\n",
    "except KeyboardInterrupt:\n",
    "        print(\"time lapse stopped\")\n",
    " "
   ]
  },
  {
   "cell_type": "code",
   "execution_count": null,
   "id": "ab18f58e-ca95-4e0b-9819-1582bb437abd",
   "metadata": {},
   "outputs": [],
   "source": []
  },
  {
   "cell_type": "code",
   "execution_count": null,
   "id": "666702ad-7691-403a-bf73-261c86aa3353",
   "metadata": {},
   "outputs": [],
   "source": []
  }
 ],
 "metadata": {
  "kernelspec": {
   "display_name": "Python 3 (ipykernel)",
   "language": "python",
   "name": "python3"
  },
  "language_info": {
   "codemirror_mode": {
    "name": "ipython",
    "version": 3
   },
   "file_extension": ".py",
   "mimetype": "text/x-python",
   "name": "python",
   "nbconvert_exporter": "python",
   "pygments_lexer": "ipython3",
   "version": "3.9.2"
  }
 },
 "nbformat": 4,
 "nbformat_minor": 5
}

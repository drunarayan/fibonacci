{
 "cells": [
  {
   "cell_type": "code",
   "execution_count": 1,
   "id": "787ee4fe-f207-443b-a2e7-f3c07c918f1f",
   "metadata": {},
   "outputs": [
    {
     "name": "stdout",
     "output_type": "stream",
     "text": [
      "program stopped\n"
     ]
    }
   ],
   "source": [
    "from gpiozero import LED\n",
    "from time import sleep\n",
    "import RPi.GPIO as GPIO  \n",
    "\n",
    "led = LED(12)\n",
    "      \n",
    "while True:\n",
    "    try:  \n",
    "        led.on()\n",
    "        sleep(3)\n",
    "        led.off()\n",
    "        sleep(3)\n",
    "    except KeyboardInterrupt:\n",
    "        led.off()\n",
    "        print(\"program stopped\")\n",
    "        GPIO.cleanup() \n",
    "        break"
   ]
  },
  {
   "cell_type": "code",
   "execution_count": null,
   "id": "5519ca72-2ab5-4269-b554-0f2bb172263e",
   "metadata": {},
   "outputs": [],
   "source": []
  }
 ],
 "metadata": {
  "kernelspec": {
   "display_name": "Python 3 (ipykernel)",
   "language": "python",
   "name": "python3"
  },
  "language_info": {
   "codemirror_mode": {
    "name": "ipython",
    "version": 3
   },
   "file_extension": ".py",
   "mimetype": "text/x-python",
   "name": "python",
   "nbconvert_exporter": "python",
   "pygments_lexer": "ipython3",
   "version": "3.9.2"
  }
 },
 "nbformat": 4,
 "nbformat_minor": 5
}

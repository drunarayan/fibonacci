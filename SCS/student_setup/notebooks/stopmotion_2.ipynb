{
 "cells": [
  {
   "cell_type": "code",
   "execution_count": null,
   "id": "78c241d1-f5a0-4cff-8b6d-9b03f66486d4",
   "metadata": {
    "tags": []
   },
   "outputs": [],
   "source": [
    "def capture_image(deg, frm, base, dirn):\n",
    "        pgm = \"/usr/local/bin/libcamera-still\"\n",
    "        rot = \"--rotation\"\n",
    "        rvl = deg \n",
    "        pre = \"--nopreview\" \n",
    "        fcs = \"--autofocus\"\n",
    "        out = \"--output\" \n",
    "        ovl=dirn+\"/\"+base+\"{:04d}.jpg\".format(frm)\n",
    "        return [pgm,rot,rvl,pre,fcs,out,ovl,fcs]"
   ]
  },
  {
   "cell_type": "code",
   "execution_count": null,
   "id": "6965e5ab-b03d-4301-b24f-66e81110797e",
   "metadata": {},
   "outputs": [],
   "source": [
    "from gpiozero import Button\n",
    "from time import sleep\n",
    "import os, subprocess\n",
    "\n",
    "home_dir = \"/home/pi\"\n",
    "notes_dir = home_dir+\"/notebooks\"\n",
    "script_dir = notes_dir+\"/scripts\"\n",
    "\n",
    "basename = \"smimage\"\n",
    "dirname = notes_dir+\"/stopmotion\"\n",
    "\n",
    "button = Button(2)\n",
    "frame = 1\n",
    "\n",
    "while True:\n",
    "    try:\n",
    "        button.wait_for_press()\n",
    "        rotation = \"180\"\n",
    "        cmd = capture_image(rotation, frame, basename, dirname)\n",
    "        print(cmd)\n",
    "        output = subprocess.run(cmd, capture_output=True, text=True, check=True)\n",
    "        frame += 1\n",
    "    except KeyboardInterrupt:\n",
    "        print(\"stopmotion script stopped\")\n",
    "        break\n",
    "        "
   ]
  },
  {
   "cell_type": "code",
   "execution_count": null,
   "id": "85662c67-0dde-407d-bad0-b4fe5a6fbdc7",
   "metadata": {},
   "outputs": [],
   "source": []
  },
  {
   "cell_type": "code",
   "execution_count": null,
   "id": "1c681839-e00b-49f8-916e-64306b1cce83",
   "metadata": {},
   "outputs": [],
   "source": []
  }
 ],
 "metadata": {
  "kernelspec": {
   "display_name": "Python 3 (ipykernel)",
   "language": "python",
   "name": "python3"
  },
  "language_info": {
   "codemirror_mode": {
    "name": "ipython",
    "version": 3
   },
   "file_extension": ".py",
   "mimetype": "text/x-python",
   "name": "python",
   "nbconvert_exporter": "python",
   "pygments_lexer": "ipython3",
   "version": "3.9.2"
  }
 },
 "nbformat": 4,
 "nbformat_minor": 5
}

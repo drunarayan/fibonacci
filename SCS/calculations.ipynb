{
 "cells": [
  {
   "cell_type": "markdown",
   "id": "03644229-c4ce-4e0f-b26e-89bdbf727184",
   "metadata": {},
   "source": [
    "# Calculate Diameter of Sun!"
   ]
  },
  {
   "cell_type": "code",
   "execution_count": null,
   "id": "d3451c9b-e644-4908-86bd-8e42e03c7241",
   "metadata": {},
   "outputs": [],
   "source": [
    "import math"
   ]
  },
  {
   "cell_type": "code",
   "execution_count": null,
   "id": "7e02ecf5-5bf3-4604-bd3b-1889fb922b31",
   "metadata": {},
   "outputs": [],
   "source": [
    "#Average Time Sun takes to move by 1 diameter\n",
    "traverse_time = 131.825 #seconds\n",
    "print(traverse_time)"
   ]
  },
  {
   "cell_type": "code",
   "execution_count": null,
   "id": "588c2199-b0d2-406c-b618-63aadefc2485",
   "metadata": {},
   "outputs": [],
   "source": [
    "# No of seconds in a 24-hour day\n",
    "sec_in_a_day = 24 * 60 * 60  #seconds\n",
    "print(sec_in_a_day)"
   ]
  },
  {
   "cell_type": "code",
   "execution_count": null,
   "id": "620dc1f5-d58a-49b5-b5cf-bde505646c99",
   "metadata": {},
   "outputs": [],
   "source": [
    "# Angular Distance of Sun from Earth in Deg\n",
    "angular_distance_deg = traverse_time * 360 / sec_in_a_day\n",
    "print(angular_distance_deg)"
   ]
  },
  {
   "cell_type": "code",
   "execution_count": null,
   "id": "ecb6b4c4-9534-4fbb-b7b8-bd2a67f64d6f",
   "metadata": {},
   "outputs": [],
   "source": [
    "# Angular Distance of Sun from Earth in Rad\n",
    "angular_distance_rad = angular_distance_deg * math.pi / 180\n",
    "print(angular_distance_rad)"
   ]
  },
  {
   "cell_type": "code",
   "execution_count": null,
   "id": "bcf4b753-e6a8-4905-b2eb-336c4daac429",
   "metadata": {},
   "outputs": [],
   "source": [
    "# Distance of Sun from Earth\n",
    "sun_distance_from_earth = 150e6 # KM"
   ]
  },
  {
   "cell_type": "code",
   "execution_count": null,
   "id": "59354b2a-5565-4109-903d-6e10d91806f3",
   "metadata": {},
   "outputs": [],
   "source": [
    "# Diameter of Sun Calculation\n",
    "# For very Small angles the subtended arc of circle\n",
    "# is equal to side of angle * angle in radians\n",
    "\n",
    "diameter_of_sun = angular_distance_rad * sun_distance_from_earth\n",
    "print(diameter_of_sun, \"KM\")"
   ]
  },
  {
   "cell_type": "markdown",
   "id": "1e0d5119-a086-4a54-bec9-5c50cda4ae46",
   "metadata": {},
   "source": [
    "# Calculate Diameter of an Atom!"
   ]
  },
  {
   "cell_type": "markdown",
   "id": "e3592219-b460-46d3-9786-5a0443f9a599",
   "metadata": {},
   "source": [
    "### 1. Make a 1/400 Dilute solution of Oleic Acid"
   ]
  },
  {
   "cell_type": "markdown",
   "id": "25406501-b872-4d55-b222-8caa637554dd",
   "metadata": {},
   "source": [
    "### 1. Make a 1/400 Dilute solution of Oleic Acid"
   ]
  },
  {
   "cell_type": "code",
   "execution_count": null,
   "id": "fbd48bde-77d0-436f-bf52-a4f32654f5f1",
   "metadata": {},
   "outputs": [],
   "source": [
    "amount_of_oleicacid_in_one_mili_liter_of_alchohol = 1/20*1/20\n",
    "print(amount_of_oleicacid_in_one_mili_liter_of_alchohol)"
   ]
  },
  {
   "cell_type": "markdown",
   "id": "0ab87de0-8d5e-43e5-b615-15c3b5d07f34",
   "metadata": {},
   "source": [
    "### 2. Measure the number of drops in one mililiter of alchohol"
   ]
  },
  {
   "cell_type": "code",
   "execution_count": null,
   "id": "e366c85a-db46-4b29-99c1-22872a67fe90",
   "metadata": {},
   "outputs": [],
   "source": [
    "no_of_drops_in_one_mili_liter_of_alchohol = 63 # We need to find this experimentally!\n",
    "print(no_of_drops_in_one_mili_liter_of_alchohol, \"drops\")"
   ]
  },
  {
   "cell_type": "markdown",
   "id": "56fe16a8-a8c5-4dee-b983-eb54c457bc4c",
   "metadata": {},
   "source": [
    "### 2. Calculate the amount of Oleic acid in one drop of dilution solution"
   ]
  },
  {
   "cell_type": "code",
   "execution_count": null,
   "id": "a34ef3d0-5045-4005-b528-7f4ccc382285",
   "metadata": {},
   "outputs": [],
   "source": [
    "oleic_acid_in_one_drop_of_solution = amount_of_oleicacid_in_one_mili_liter_of_alchohol / no_of_drops_in_one_mili_liter_of_alchohol  # We need to find this experimentally!\n",
    "print(oleic_acid_in_one_drop_of_solution, \"ml\")\n",
    "print(oleic_acid_in_one_drop_of_solution * 1e-6, \"cubic-meters\")"
   ]
  },
  {
   "cell_type": "markdown",
   "id": "ba8f7b7f-8bbe-4c4e-9140-ef3174f62a6c",
   "metadata": {},
   "source": [
    "### 4. Measure the Mono Molecular Layer!"
   ]
  },
  {
   "cell_type": "code",
   "execution_count": null,
   "id": "d8da2c03-21c1-457a-aa1a-7d002b17989d",
   "metadata": {},
   "outputs": [],
   "source": [
    "diameter_mono_molecular_layer = 15 # CM We need to find this experimentally!\n",
    "print(diameter_mono_molecular_layer * 1e-2, \"M\")"
   ]
  },
  {
   "cell_type": "markdown",
   "id": "4c8db6e4-f840-40a0-8e5d-8046c9750ad5",
   "metadata": {},
   "source": [
    "### 3. Calculate the thickness of the Mono Molecular Layer\n",
    "##.    This is the thickness of the molecule of oleic acid !!"
   ]
  },
  {
   "cell_type": "markdown",
   "id": "138fb163-10ec-4300-8827-cf9b9d3f1b43",
   "metadata": {},
   "source": [
    "### 4. Calculate the thickness of the Mono Molecular Layer\n",
    "##.    This is the thickness of the molecule of oleic acid !!\n",
    "##.    This contains 17 carbon atoms in a chain!"
   ]
  },
  {
   "cell_type": "code",
   "execution_count": null,
   "id": "4c2a69a2-07e0-40d5-be90-6f392c03f197",
   "metadata": {},
   "outputs": [],
   "source": [
    "thickness_of_mono_molecular_layer = 4 * oleic_acid_in_one_drop_of_solution / (math.pi * diameter_mono_molecular_layer**2)\n",
    "print(thickness_of_mono_molecular_layer * 1e-2, \"M\")\n",
    "no_of_carbon_atoms_in_a_oleic_acid_molecule = 17\n",
    "print(no_of_carbon_atoms_in_a_oleic_acid_molecule, \"Carbon Atoms\")"
   ]
  },
  {
   "cell_type": "markdown",
   "id": "8b6c9ec9-1619-4f62-894f-3cb8a27dd556",
   "metadata": {},
   "source": [
    "### 5. Calculate the thickness of molecule of Oleic Acid !!\n"
   ]
  },
  {
   "cell_type": "code",
   "execution_count": null,
   "id": "e37cea8e-5c37-4c36-9a89-b57241cb2353",
   "metadata": {},
   "outputs": [],
   "source": [
    "thickness_of_oleic_acid_molecule = thickness_of_mono_molecular_layer * 1e-2\n",
    "print(thickness_of_oleic_acid_molecule, \"M\")"
   ]
  },
  {
   "cell_type": "markdown",
   "id": "aff9e003-a747-42df-9e5e-705c406cd0c4",
   "metadata": {},
   "source": [
    "### 6. Calculate the Diameter of Carbon Atom !!\n"
   ]
  },
  {
   "cell_type": "code",
   "execution_count": null,
   "id": "8fb66743-c363-4700-bbd2-87f1cb3c8160",
   "metadata": {},
   "outputs": [],
   "source": [
    "diameter_of_a_single_carbon_atom = thickness_of_oleic_acid_molecule  / no_of_carbon_atoms_in_a_oleic_acid_molecule\n",
    "print(diameter_of_a_single_carbon_atom, \"M\")"
   ]
  },
  {
   "cell_type": "markdown",
   "id": "fc26d75e-ca88-42f1-91ff-3288d85e10f3",
   "metadata": {},
   "source": [
    "### Eureka! !!\n"
   ]
  }
 ],
 "metadata": {
  "kernelspec": {
   "display_name": "Python 3 (ipykernel)",
   "language": "python",
   "name": "python3"
  },
  "language_info": {
   "codemirror_mode": {
    "name": "ipython",
    "version": 3
   },
   "file_extension": ".py",
   "mimetype": "text/x-python",
   "name": "python",
   "nbconvert_exporter": "python",
   "pygments_lexer": "ipython3",
   "version": "3.9.2"
  }
 },
 "nbformat": 4,
 "nbformat_minor": 5
}

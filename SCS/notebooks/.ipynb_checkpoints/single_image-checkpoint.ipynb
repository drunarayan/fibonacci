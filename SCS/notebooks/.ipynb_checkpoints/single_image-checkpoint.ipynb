{
 "cells": [
  {
   "cell_type": "code",
   "execution_count": 1,
   "id": "9fb535d2-8e1b-49db-b6a3-8239dfde43ae",
   "metadata": {},
   "outputs": [],
   "source": [
    "def get_startframe(base, dirn):\n",
    "    scr = script_dir+\"/get_startframe.sh\"\n",
    "    return [scr,base,dirn]"
   ]
  },
  {
   "cell_type": "code",
   "execution_count": 4,
   "id": "19e68739-617e-4a8b-bcf8-af4f2ce600dd",
   "metadata": {},
   "outputs": [],
   "source": [
    "def capture_image(deg, frm, base, dirn):\n",
    "        pgm = \"/usr/local/bin/libcamera-still\"\n",
    "        rot = \"--rotation\"\n",
    "        rvl = deg \n",
    "        pre = \"--nopreview\" \n",
    "        fcs = \"--autofocus\"\n",
    "        out = \"--output\" \n",
    "        ovl=dirn+\"/\"+base+\"{:04d}.jpg\".format(frm)\n",
    "        return [pgm,rot,rvl,pre,out,ovl,fcs]"
   ]
  },
  {
   "cell_type": "code",
   "execution_count": 5,
   "id": "9ebcc29d-4c97-4a4e-b56a-4292ae308ed5",
   "metadata": {},
   "outputs": [
    {
     "name": "stdout",
     "output_type": "stream",
     "text": [
      "['/usr/local/bin/libcamera-still', '--rotation', '180', '--nopreview', '--output', '/home/pi/notebooks/images/image0002.jpg', '--autofocus']\n"
     ]
    }
   ],
   "source": [
    "# Capture Single Image into a directory\n",
    "import os, subprocess\n",
    "\n",
    "home_dir = \"/home/pi\"\n",
    "notes_dir = home_dir+\"/notebooks\"\n",
    "script_dir = notes_dir+\"/scripts\"\n",
    "\n",
    "basename = \"image\"\n",
    "dirname = notes_dir+\"/images\"\n",
    "\n",
    "cmd = get_startframe(basename, dirname)\n",
    "output = subprocess.run(cmd, capture_output=True, text=True, check=True)\n",
    "startframe = int(output.stdout)\n",
    "\n",
    "rotation = \"180\"\n",
    "\n",
    "cmd = capture_image(rotation, startframe, basename, dirname)\n",
    "print(cmd)\n",
    "output = subprocess.run(cmd, capture_output=True, text=True, check=True)"
   ]
  },
  {
   "cell_type": "code",
   "execution_count": null,
   "id": "048e0d38-b557-4d50-b233-83fbf9a86c7c",
   "metadata": {},
   "outputs": [],
   "source": []
  }
 ],
 "metadata": {
  "kernelspec": {
   "display_name": "Python 3 (ipykernel)",
   "language": "python",
   "name": "python3"
  },
  "language_info": {
   "codemirror_mode": {
    "name": "ipython",
    "version": 3
   },
   "file_extension": ".py",
   "mimetype": "text/x-python",
   "name": "python",
   "nbconvert_exporter": "python",
   "pygments_lexer": "ipython3",
   "version": "3.9.2"
  }
 },
 "nbformat": 4,
 "nbformat_minor": 5
}

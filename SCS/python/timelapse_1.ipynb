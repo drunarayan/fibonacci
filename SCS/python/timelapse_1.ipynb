{
 "cells": [
  {
   "cell_type": "code",
   "execution_count": 1,
   "id": "6f81c48c-0159-473e-9d05-74fea4d6d1a1",
   "metadata": {},
   "outputs": [],
   "source": [
    "def capture_image(deg, frm):\n",
    "        scr = \"libcamera-still\"\n",
    "        rot = \"--rotation\"\n",
    "        rvl = deg \n",
    "        pre = \"--nopreview\" \n",
    "        fcs = \"--autofocus\"\n",
    "        out = \"--output\" \n",
    "        ovl=\"./stopmotion/image{:03d}.jpg\".format(frm)\n",
    "        return [scr,rot,rvl,pre,fcs,out,ovl]"
   ]
  },
  {
   "cell_type": "code",
   "execution_count": 2,
   "id": "259835e5-d94b-4e79-a40a-67131c0937fb",
   "metadata": {},
   "outputs": [],
   "source": [
    "def capture_timelapse(deg, frm, dur, tml):\n",
    "        scr = \"libcamera-still\"\n",
    "        rot = \"--rotation\"\n",
    "        rvl = deg\n",
    "        ovt = \"-t\"\n",
    "        odur = dur\n",
    "        tmt = \"--timelapse\"\n",
    "        tdur = tml\n",
    "        fst = \"--framestart\"\n",
    "        fvl = frm\n",
    "        pre = \"--nopreview\" \n",
    "        fcs = \"--autofocus\"\n",
    "        out = \"--output\" \n",
    "        ovl=\"./stopmotion/tlimage%04d.jpg\"\n",
    "        return [scr,rot,rvl,ovt,odur,tmt,tdur,fst,fvl,out,ovl,pre,fcs]"
   ]
  },
  {
   "cell_type": "code",
   "execution_count": 3,
   "id": "8e3436ff-b86a-40d0-8f0c-751938a5f00a",
   "metadata": {},
   "outputs": [],
   "source": [
    "from time import sleep\n",
    "import os, subprocess\n",
    "\n",
    "frame = 1\n",
    "startframe = \"100\"\n",
    "rotation = \"180\"\n",
    "duration = \"60000\"\n",
    "timelapse = \"1000\"\n",
    "\n",
    "cmd = capture_image(rotation, frame)\n",
    "output = subprocess.run(cmd, capture_output=True, text=True, check=True)\n",
    "\n",
    "cmd = capture_timelapse(rotation, startframe, duration, timelapse)\n",
    "output = subprocess.run(cmd, capture_output=True, text=True, check=True)\n",
    "\n",
    "        "
   ]
  }
 ],
 "metadata": {
  "kernelspec": {
   "display_name": "Python 3 (ipykernel)",
   "language": "python",
   "name": "python3"
  },
  "language_info": {
   "codemirror_mode": {
    "name": "ipython",
    "version": 3
   },
   "file_extension": ".py",
   "mimetype": "text/x-python",
   "name": "python",
   "nbconvert_exporter": "python",
   "pygments_lexer": "ipython3",
   "version": "3.9.2"
  }
 },
 "nbformat": 4,
 "nbformat_minor": 5
}

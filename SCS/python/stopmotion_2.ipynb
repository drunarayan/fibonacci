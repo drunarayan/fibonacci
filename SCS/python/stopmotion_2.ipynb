{
 "cells": [
  {
   "cell_type": "code",
   "execution_count": 1,
   "id": "78c241d1-f5a0-4cff-8b6d-9b03f66486d4",
   "metadata": {
    "tags": []
   },
   "outputs": [],
   "source": [
    "def capture_image(deg, frm):\n",
    "        scr = \"libcamera-still\"\n",
    "        rot = \"--rotation\"\n",
    "        rvl = deg \n",
    "        pre = \"--nopreview\" \n",
    "        fcs = \"--autofocus\"\n",
    "        out = \"--output\" \n",
    "        ovl=\"./stopmotion/image{:03d}.jpg\".format(frm)\n",
    "        return [scr,rot,rvl,pre,fcs,out,ovl]"
   ]
  },
  {
   "cell_type": "code",
   "execution_count": null,
   "id": "8e3436ff-b86a-40d0-8f0c-751938a5f00a",
   "metadata": {},
   "outputs": [],
   "source": [
    "from gpiozero import Button\n",
    "from time import sleep\n",
    "import os, subprocess\n",
    "button = Button(2)\n",
    "frame = 1\n",
    "while True:\n",
    "    try:\n",
    "        button.wait_for_press()\n",
    "        rotation = \"180\"\n",
    "        cmd = capture_image(rotation, frame)\n",
    "        output = subprocess.run(cmd, capture_output=True, text=True, check=True)\n",
    "        frame += 1\n",
    "    except KeyboardInterrupt:\n",
    "        break"
   ]
  },
  {
   "cell_type": "code",
   "execution_count": null,
   "id": "6965e5ab-b03d-4301-b24f-66e81110797e",
   "metadata": {},
   "outputs": [],
   "source": []
  }
 ],
 "metadata": {
  "kernelspec": {
   "display_name": "Python 3 (ipykernel)",
   "language": "python",
   "name": "python3"
  },
  "language_info": {
   "codemirror_mode": {
    "name": "ipython",
    "version": 3
   },
   "file_extension": ".py",
   "mimetype": "text/x-python",
   "name": "python",
   "nbconvert_exporter": "python",
   "pygments_lexer": "ipython3",
   "version": "3.9.2"
  }
 },
 "nbformat": 4,
 "nbformat_minor": 5
}

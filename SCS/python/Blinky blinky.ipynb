{
 "cells": [
  {
   "cell_type": "code",
   "execution_count": 2,
   "id": "787ee4fe-f207-443b-a2e7-f3c07c918f1f",
   "metadata": {},
   "outputs": [
    {
     "ename": "GPIOPinInUse",
     "evalue": "pin 18 is already in use by <gpiozero.LED object on pin GPIO18, active_high=True, is_active=False>",
     "output_type": "error",
     "traceback": [
      "\u001b[0;31m---------------------------------------------------------------------------\u001b[0m",
      "\u001b[0;31mGPIOPinInUse\u001b[0m                              Traceback (most recent call last)",
      "Input \u001b[0;32mIn [2]\u001b[0m, in \u001b[0;36m<cell line: 3>\u001b[0;34m()\u001b[0m\n\u001b[1;32m      1\u001b[0m \u001b[38;5;28;01mfrom\u001b[39;00m \u001b[38;5;21;01mgpiozero\u001b[39;00m \u001b[38;5;28;01mimport\u001b[39;00m LED\n\u001b[1;32m      2\u001b[0m \u001b[38;5;28;01mfrom\u001b[39;00m \u001b[38;5;21;01mtime\u001b[39;00m \u001b[38;5;28;01mimport\u001b[39;00m sleep\n\u001b[0;32m----> 3\u001b[0m led \u001b[38;5;241m=\u001b[39m \u001b[43mLED\u001b[49m\u001b[43m(\u001b[49m\u001b[38;5;241;43m18\u001b[39;49m\u001b[43m)\u001b[49m\n\u001b[1;32m      4\u001b[0m led\u001b[38;5;241m.\u001b[39mon()\n\u001b[1;32m      5\u001b[0m sleep(\u001b[38;5;241m1\u001b[39m)\n",
      "File \u001b[0;32m/usr/lib/python3/dist-packages/gpiozero/devices.py:108\u001b[0m, in \u001b[0;36mGPIOMeta.__call__\u001b[0;34m(cls, *args, **kwargs)\u001b[0m\n\u001b[1;32m    105\u001b[0m         \u001b[38;5;28mcls\u001b[39m\u001b[38;5;241m.\u001b[39m_instances[key] \u001b[38;5;241m=\u001b[39m weakref\u001b[38;5;241m.\u001b[39mref(\u001b[38;5;28mself\u001b[39m)\n\u001b[1;32m    106\u001b[0m \u001b[38;5;28;01melse\u001b[39;00m:\n\u001b[1;32m    107\u001b[0m     \u001b[38;5;66;03m# Construct the instance as normal\u001b[39;00m\n\u001b[0;32m--> 108\u001b[0m     \u001b[38;5;28mself\u001b[39m \u001b[38;5;241m=\u001b[39m \u001b[38;5;28;43msuper\u001b[39;49m\u001b[43m(\u001b[49m\u001b[43mGPIOMeta\u001b[49m\u001b[43m,\u001b[49m\u001b[43m \u001b[49m\u001b[38;5;28;43mcls\u001b[39;49m\u001b[43m)\u001b[49m\u001b[38;5;241;43m.\u001b[39;49m\u001b[38;5;21;43m__call__\u001b[39;49m\u001b[43m(\u001b[49m\u001b[38;5;241;43m*\u001b[39;49m\u001b[43margs\u001b[49m\u001b[43m,\u001b[49m\u001b[43m \u001b[49m\u001b[38;5;241;43m*\u001b[39;49m\u001b[38;5;241;43m*\u001b[39;49m\u001b[43mkwargs\u001b[49m\u001b[43m)\u001b[49m\n\u001b[1;32m    109\u001b[0m \u001b[38;5;66;03m# At this point __new__ and __init__ have all been run. We now fix the\u001b[39;00m\n\u001b[1;32m    110\u001b[0m \u001b[38;5;66;03m# set of attributes on the class by dir'ing the instance and creating a\u001b[39;00m\n\u001b[1;32m    111\u001b[0m \u001b[38;5;66;03m# frozenset of the result called __attrs__ (which is queried by\u001b[39;00m\n\u001b[1;32m    112\u001b[0m \u001b[38;5;66;03m# GPIOBase.__setattr__). An exception is made for SharedMixin devices\u001b[39;00m\n\u001b[1;32m    113\u001b[0m \u001b[38;5;66;03m# which can be constructed multiple times, returning the same instance\u001b[39;00m\n\u001b[1;32m    114\u001b[0m \u001b[38;5;28;01mif\u001b[39;00m \u001b[38;5;129;01mnot\u001b[39;00m \u001b[38;5;28missubclass\u001b[39m(\u001b[38;5;28mcls\u001b[39m, SharedMixin) \u001b[38;5;129;01mor\u001b[39;00m \u001b[38;5;28mself\u001b[39m\u001b[38;5;241m.\u001b[39m_refs \u001b[38;5;241m==\u001b[39m \u001b[38;5;241m1\u001b[39m:\n",
      "File \u001b[0;32m/usr/lib/python3/dist-packages/gpiozero/output_devices.py:200\u001b[0m, in \u001b[0;36mDigitalOutputDevice.__init__\u001b[0;34m(self, pin, active_high, initial_value, pin_factory)\u001b[0m\n\u001b[1;32m    198\u001b[0m \u001b[38;5;28mself\u001b[39m\u001b[38;5;241m.\u001b[39m_blink_thread \u001b[38;5;241m=\u001b[39m \u001b[38;5;28;01mNone\u001b[39;00m\n\u001b[1;32m    199\u001b[0m \u001b[38;5;28mself\u001b[39m\u001b[38;5;241m.\u001b[39m_controller \u001b[38;5;241m=\u001b[39m \u001b[38;5;28;01mNone\u001b[39;00m\n\u001b[0;32m--> 200\u001b[0m \u001b[38;5;28;43msuper\u001b[39;49m\u001b[43m(\u001b[49m\u001b[43mDigitalOutputDevice\u001b[49m\u001b[43m,\u001b[49m\u001b[43m \u001b[49m\u001b[38;5;28;43mself\u001b[39;49m\u001b[43m)\u001b[49m\u001b[38;5;241;43m.\u001b[39;49m\u001b[38;5;21;43m__init__\u001b[39;49m\u001b[43m(\u001b[49m\n\u001b[1;32m    201\u001b[0m \u001b[43m    \u001b[49m\u001b[43mpin\u001b[49m\u001b[43m,\u001b[49m\u001b[43m \u001b[49m\u001b[43mactive_high\u001b[49m\u001b[43m,\u001b[49m\u001b[43m \u001b[49m\u001b[43minitial_value\u001b[49m\u001b[43m,\u001b[49m\u001b[43m \u001b[49m\u001b[43mpin_factory\u001b[49m\u001b[38;5;241;43m=\u001b[39;49m\u001b[43mpin_factory\u001b[49m\n\u001b[1;32m    202\u001b[0m \u001b[43m\u001b[49m\u001b[43m)\u001b[49m\n",
      "File \u001b[0;32m/usr/lib/python3/dist-packages/gpiozero/output_devices.py:83\u001b[0m, in \u001b[0;36mOutputDevice.__init__\u001b[0;34m(self, pin, active_high, initial_value, pin_factory)\u001b[0m\n\u001b[1;32m     80\u001b[0m \u001b[38;5;28;01mdef\u001b[39;00m \u001b[38;5;21m__init__\u001b[39m(\n\u001b[1;32m     81\u001b[0m         \u001b[38;5;28mself\u001b[39m, pin\u001b[38;5;241m=\u001b[39m\u001b[38;5;28;01mNone\u001b[39;00m, active_high\u001b[38;5;241m=\u001b[39m\u001b[38;5;28;01mTrue\u001b[39;00m, initial_value\u001b[38;5;241m=\u001b[39m\u001b[38;5;28;01mFalse\u001b[39;00m,\n\u001b[1;32m     82\u001b[0m         pin_factory\u001b[38;5;241m=\u001b[39m\u001b[38;5;28;01mNone\u001b[39;00m):\n\u001b[0;32m---> 83\u001b[0m     \u001b[38;5;28;43msuper\u001b[39;49m\u001b[43m(\u001b[49m\u001b[43mOutputDevice\u001b[49m\u001b[43m,\u001b[49m\u001b[43m \u001b[49m\u001b[38;5;28;43mself\u001b[39;49m\u001b[43m)\u001b[49m\u001b[38;5;241;43m.\u001b[39;49m\u001b[38;5;21;43m__init__\u001b[39;49m\u001b[43m(\u001b[49m\u001b[43mpin\u001b[49m\u001b[43m,\u001b[49m\u001b[43m \u001b[49m\u001b[43mpin_factory\u001b[49m\u001b[38;5;241;43m=\u001b[39;49m\u001b[43mpin_factory\u001b[49m\u001b[43m)\u001b[49m\n\u001b[1;32m     84\u001b[0m     \u001b[38;5;28mself\u001b[39m\u001b[38;5;241m.\u001b[39m_lock \u001b[38;5;241m=\u001b[39m Lock()\n\u001b[1;32m     85\u001b[0m     \u001b[38;5;28mself\u001b[39m\u001b[38;5;241m.\u001b[39mactive_high \u001b[38;5;241m=\u001b[39m active_high\n",
      "File \u001b[0;32m/usr/lib/python3/dist-packages/gpiozero/mixins.py:85\u001b[0m, in \u001b[0;36mSourceMixin.__init__\u001b[0;34m(self, *args, **kwargs)\u001b[0m\n\u001b[1;32m     83\u001b[0m \u001b[38;5;28mself\u001b[39m\u001b[38;5;241m.\u001b[39m_source_thread \u001b[38;5;241m=\u001b[39m \u001b[38;5;28;01mNone\u001b[39;00m\n\u001b[1;32m     84\u001b[0m \u001b[38;5;28mself\u001b[39m\u001b[38;5;241m.\u001b[39m_source_delay \u001b[38;5;241m=\u001b[39m \u001b[38;5;241m0.01\u001b[39m\n\u001b[0;32m---> 85\u001b[0m \u001b[38;5;28;43msuper\u001b[39;49m\u001b[43m(\u001b[49m\u001b[43mSourceMixin\u001b[49m\u001b[43m,\u001b[49m\u001b[43m \u001b[49m\u001b[38;5;28;43mself\u001b[39;49m\u001b[43m)\u001b[49m\u001b[38;5;241;43m.\u001b[39;49m\u001b[38;5;21;43m__init__\u001b[39;49m\u001b[43m(\u001b[49m\u001b[38;5;241;43m*\u001b[39;49m\u001b[43margs\u001b[49m\u001b[43m,\u001b[49m\u001b[43m \u001b[49m\u001b[38;5;241;43m*\u001b[39;49m\u001b[38;5;241;43m*\u001b[39;49m\u001b[43mkwargs\u001b[49m\u001b[43m)\u001b[49m\n",
      "File \u001b[0;32m/usr/lib/python3/dist-packages/gpiozero/devices.py:548\u001b[0m, in \u001b[0;36mGPIODevice.__init__\u001b[0;34m(self, pin, **kwargs)\u001b[0m\n\u001b[1;32m    546\u001b[0m     \u001b[38;5;28;01mraise\u001b[39;00m GPIOPinMissing(\u001b[38;5;124m'\u001b[39m\u001b[38;5;124mNo pin given\u001b[39m\u001b[38;5;124m'\u001b[39m)\n\u001b[1;32m    547\u001b[0m \u001b[38;5;66;03m# Check you can reserve *before* constructing the pin\u001b[39;00m\n\u001b[0;32m--> 548\u001b[0m \u001b[38;5;28;43mself\u001b[39;49m\u001b[38;5;241;43m.\u001b[39;49m\u001b[43mpin_factory\u001b[49m\u001b[38;5;241;43m.\u001b[39;49m\u001b[43mreserve_pins\u001b[49m\u001b[43m(\u001b[49m\u001b[38;5;28;43mself\u001b[39;49m\u001b[43m,\u001b[49m\u001b[43m \u001b[49m\u001b[43mpin\u001b[49m\u001b[43m)\u001b[49m\n\u001b[1;32m    549\u001b[0m pin \u001b[38;5;241m=\u001b[39m \u001b[38;5;28mself\u001b[39m\u001b[38;5;241m.\u001b[39mpin_factory\u001b[38;5;241m.\u001b[39mpin(pin)\n\u001b[1;32m    550\u001b[0m \u001b[38;5;28mself\u001b[39m\u001b[38;5;241m.\u001b[39m_pin \u001b[38;5;241m=\u001b[39m pin\n",
      "File \u001b[0;32m/usr/lib/python3/dist-packages/gpiozero/pins/pi.py:91\u001b[0m, in \u001b[0;36mPiFactory.reserve_pins\u001b[0;34m(self, requester, *pins)\u001b[0m\n\u001b[1;32m     90\u001b[0m \u001b[38;5;28;01mdef\u001b[39;00m \u001b[38;5;21mreserve_pins\u001b[39m(\u001b[38;5;28mself\u001b[39m, requester, \u001b[38;5;241m*\u001b[39mpins):\n\u001b[0;32m---> 91\u001b[0m     \u001b[38;5;28;43msuper\u001b[39;49m\u001b[43m(\u001b[49m\u001b[43mPiFactory\u001b[49m\u001b[43m,\u001b[49m\u001b[43m \u001b[49m\u001b[38;5;28;43mself\u001b[39;49m\u001b[43m)\u001b[49m\u001b[38;5;241;43m.\u001b[39;49m\u001b[43mreserve_pins\u001b[49m\u001b[43m(\u001b[49m\n\u001b[1;32m     92\u001b[0m \u001b[43m        \u001b[49m\u001b[43mrequester\u001b[49m\u001b[43m,\u001b[49m\u001b[43m \u001b[49m\u001b[38;5;241;43m*\u001b[39;49m\u001b[43m(\u001b[49m\u001b[38;5;28;43mself\u001b[39;49m\u001b[38;5;241;43m.\u001b[39;49m\u001b[43mpi_info\u001b[49m\u001b[38;5;241;43m.\u001b[39;49m\u001b[43mto_gpio\u001b[49m\u001b[43m(\u001b[49m\u001b[43mpin\u001b[49m\u001b[43m)\u001b[49m\u001b[43m \u001b[49m\u001b[38;5;28;43;01mfor\u001b[39;49;00m\u001b[43m \u001b[49m\u001b[43mpin\u001b[49m\u001b[43m \u001b[49m\u001b[38;5;129;43;01min\u001b[39;49;00m\u001b[43m \u001b[49m\u001b[43mpins\u001b[49m\u001b[43m)\u001b[49m\u001b[43m)\u001b[49m\n",
      "File \u001b[0;32m/usr/lib/python3/dist-packages/gpiozero/pins/__init__.py:77\u001b[0m, in \u001b[0;36mFactory.reserve_pins\u001b[0;34m(self, requester, *pins)\u001b[0m\n\u001b[1;32m     75\u001b[0m     reserver \u001b[38;5;241m=\u001b[39m reserver_ref()\n\u001b[1;32m     76\u001b[0m     \u001b[38;5;28;01mif\u001b[39;00m reserver \u001b[38;5;129;01mis\u001b[39;00m \u001b[38;5;129;01mnot\u001b[39;00m \u001b[38;5;28;01mNone\u001b[39;00m \u001b[38;5;129;01mand\u001b[39;00m requester\u001b[38;5;241m.\u001b[39m_conflicts_with(reserver):\n\u001b[0;32m---> 77\u001b[0m         \u001b[38;5;28;01mraise\u001b[39;00m GPIOPinInUse(\u001b[38;5;124m'\u001b[39m\u001b[38;5;124mpin \u001b[39m\u001b[38;5;132;01m%s\u001b[39;00m\u001b[38;5;124m is already in use by \u001b[39m\u001b[38;5;132;01m%r\u001b[39;00m\u001b[38;5;124m'\u001b[39m \u001b[38;5;241m%\u001b[39m\n\u001b[1;32m     78\u001b[0m                            (pin, reserver))\n\u001b[1;32m     79\u001b[0m \u001b[38;5;28mself\u001b[39m\u001b[38;5;241m.\u001b[39m_reservations[pin]\u001b[38;5;241m.\u001b[39mappend(ref(requester))\n",
      "\u001b[0;31mGPIOPinInUse\u001b[0m: pin 18 is already in use by <gpiozero.LED object on pin GPIO18, active_high=True, is_active=False>"
     ]
    }
   ],
   "source": [
    "from gpiozero import LED\n",
    "from time import sleep\n",
    "led = LED(18)\n",
    "led.on()\n",
    "sleep(1)\n",
    "led.off()"
   ]
  },
  {
   "cell_type": "code",
   "execution_count": null,
   "id": "86bd4cf3-765e-492e-93b6-a5a8fa98deb1",
   "metadata": {},
   "outputs": [],
   "source": []
  }
 ],
 "metadata": {
  "kernelspec": {
   "display_name": "Python 3 (ipykernel)",
   "language": "python",
   "name": "python3"
  },
  "language_info": {
   "codemirror_mode": {
    "name": "ipython",
    "version": 3
   },
   "file_extension": ".py",
   "mimetype": "text/x-python",
   "name": "python",
   "nbconvert_exporter": "python",
   "pygments_lexer": "ipython3",
   "version": "3.9.2"
  }
 },
 "nbformat": 4,
 "nbformat_minor": 5
}

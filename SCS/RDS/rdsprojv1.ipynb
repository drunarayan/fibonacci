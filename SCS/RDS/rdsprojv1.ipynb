{
 "cells": [
  {
   "cell_type": "markdown",
   "metadata": {},
   "source": [
    "# RDS DIGITAL SPECTROMETER JUPYTER NOTEBOOK"
   ]
  },
  {
   "cell_type": "markdown",
   "metadata": {},
   "source": [
    "## RDS Header Block"
   ]
  },
  {
   "cell_type": "code",
   "execution_count": null,
   "metadata": {},
   "outputs": [],
   "source": [
    "# RYTHER DIGITAL SPECTROMETER SOFTWARE INTERACTIVE VERSION\n",
    "# Author - Chandru Narayan\n",
    "# TEMPLATE FOR SCS STUDENTS\n",
    "# CN Version_1  Initial Release v1\n",
    "#\n",
    "#    073122 CN v1 Initial release\n"
   ]
  },
  {
   "cell_type": "markdown",
   "metadata": {
    "hide_input": false
   },
   "source": [
    "## Importing Libraries and Notebooks"
   ]
  },
  {
   "cell_type": "code",
   "execution_count": null,
   "metadata": {
    "hide_input": false
   },
   "outputs": [],
   "source": [
    "import import_ipynb\n",
    "from IPython.core.display import Image\n",
    "from IPython.core.display import display\n",
    "from IPython.display import IFrame\n",
    "#import PIL\n",
    "from PIL import Image as pilimg\n",
    "from PIL import ImageDraw as pildraw\n",
    "from PIL import ImageFont as pilfont\n",
    "import picamera\n",
    "import os, sys\n",
    "import time\n",
    "from datetime import datetime\n",
    "\n",
    "class StopExecution(Exception):\n",
    "    def _render_traceback_(self):\n",
    "        pass\n",
    "    "
   ]
  },
  {
   "cell_type": "code",
   "execution_count": null,
   "metadata": {
    "hide_input": false
   },
   "outputs": [],
   "source": [
    "# RDS LIBRARY FUNCTIONS FOR RDS DIGITAL SPECTROMETER SOFTWARE INTERACTIVE VERSION\n",
    "# Author - Chandru Narayan\n",
    "# TEMPLATE FOR FCSR STUDENTS\n",
    "# CN Version_11i  12/1/2019 cloned from automated version v11\n",
    "# IMPORT rdsLIB AND rdsCFG HERE\n",
    "import rdslibv1"
   ]
  },
  {
   "cell_type": "markdown",
   "metadata": {},
   "source": [
    "## RDS Configuration Parameters"
   ]
  },
  {
   "cell_type": "code",
   "execution_count": null,
   "metadata": {
    "hide_input": false
   },
   "outputs": [],
   "source": [
    "###\n",
    "#    RYTHER DIGITAL TELESCOPE SOFTWARE CONFIG SECTION\n",
    "#    TO BE USED IN THE INTERACTIVE VERSION ONLY\n",
    "#    FOR DETAILED DESCRIPTION OF PARMS SEE BDS CONFIG DOC \n",
    "###\n",
    "\n",
    "#\n",
    "# NAMING\n",
    "#\n",
    "source = 'fluorescent'      \n",
    "element = 'cfls'                    \n",
    "desc = 'Flourescent Lamp Spectrum' \n",
    "\n",
    "#\n",
    "# CAMERA\n",
    "#\n",
    "shutter = 5000\n",
    "\n",
    "#\n",
    "# CALIBRATION\n",
    "#\n",
    "wavelength_factor = 0.77\n",
    "spectrum_angle = 0\n",
    "slit_topadj = 100\n",
    "slit_botadj = -200\n",
    "\n",
    "#\n",
    "# PLOTS\n",
    "#\n",
    "samp_th = 0.1\n",
    "wlen_th = 10\n",
    "\n"
   ]
  },
  {
   "cell_type": "markdown",
   "metadata": {},
   "source": [
    "## RDS File Output Names"
   ]
  },
  {
   "cell_type": "code",
   "execution_count": null,
   "metadata": {},
   "outputs": [],
   "source": [
    "# STEP 1. SETUP FILE BASENAMES WITH TIMESTAMPS\n",
    "#       setup the source or basename for files\n",
    "#       make it indicative of the spectrum you are taking\n",
    "#       keep it short but meaningful. Do not name \"a1\" etc!\n",
    "#source = 'cfls'\n",
    "\n",
    "# Filenames be appended with date and time \n",
    "# such that they will not be overwritten \n",
    "now = datetime.now()\n",
    "name = source + now.strftime(\"%m%d%H%M%S\")\n",
    "raw_filename = name + \"_raw\"\n",
    "rawinv_filename = name + \"_rawinv\"\n",
    "ovl_filename = name + \"_ovl\"\n",
    "ovlinv_filename = name + \"_ovlinv\"\n",
    "cht_filename = name + \"_cht\"\n",
    "tbl_filename = name + \"_tbl\"\n",
    "par_filename = name + \"_par\"\n",
    "pks_filename = name + \"pks\"\n",
    "clr_filename = name + \"clr\""
   ]
  },
  {
   "cell_type": "code",
   "execution_count": null,
   "metadata": {},
   "outputs": [],
   "source": [
    "################## STUDENT TO ADD EDITS BELOW ################################\n",
    "## WRITE A STATEMENT TO PRINT THE 4 OUTPUT NAMES FROM THE BDS SOFTWARE TO FAMILIARIZE YOURSELF\n",
    "\n",
    "print(raw_filename)\n",
    "print(rawinv_filename)\n",
    "print(ovl_filename)\n",
    "print(ovlinv_filename)\n",
    "print(cht_filename)\n",
    "print(tbl_filename)\n",
    "print(par_filename)\n",
    "print(pks_filename)\n",
    "print(clr_filename)"
   ]
  },
  {
   "cell_type": "code",
   "execution_count": null,
   "metadata": {},
   "outputs": [],
   "source": [
    "################## STOP HERE STUDENT/INSTRUCTOR TO VALIDATE STEP 1 ####################\n",
    "## VALIDATE THE NAMES OF FILES TO BE CREATED - DO THEY LOOK RIGHT ??? ##\n",
    "\n",
    "# DO NOT GO FORWARD UNTIL INSTRUCTOR VALIDATES"
   ]
  },
  {
   "cell_type": "markdown",
   "metadata": {},
   "source": [
    "## Creating the Spectrometer Camera Object"
   ]
  },
  {
   "cell_type": "code",
   "execution_count": null,
   "metadata": {},
   "outputs": [],
   "source": [
    "# STEP 2. CREATE THE CAMERA OBJECT\n",
    "#         CAPTURE THE RAW SPECTRUM IMAGE\n",
    "#         THIS WILL BE EXAMINED FOR ANY ADJUSTMENTS NEEDED\n",
    "#         FOR EXAMPLE IMAGE BRIGHTNESS LIGHT LEAKAGE ETC\n",
    "#         DISPLAY CAPTURED IMAGE"
   ]
  },
  {
   "cell_type": "code",
   "execution_count": null,
   "metadata": {},
   "outputs": [],
   "source": [
    "#         Get camera object. Note that this can only be executed ONCE per run\n",
    "#         YOU SHOULD NOT RUN IT AGAIN UNLESS THE CAMERA IS CLOSED WHICH\n",
    "#         THIS STATEMENT IS AT THE VERY BOTTOM OF THIS FILE\n",
    "try:\n",
    "    camera = picamera.PiCamera()\n",
    "except:\n",
    "    print(\"Exception in opening camera object\")\n",
    "    print(\"Closing and Recreating Camera Object\")\n",
    "    camera.close()\n",
    "    camera = picamera.PiCamera()\n",
    "finally:\n",
    "    print(\"Camera object created\")\n"
   ]
  },
  {
   "cell_type": "code",
   "execution_count": null,
   "metadata": {},
   "outputs": [],
   "source": [
    "#          Set the shutter speed of the camera.\n",
    "#          Use 100000 for a medium bright spectrum\n",
    "#shutter = 5000\n",
    "camera.shutter_speed = shutter\n",
    "#         flip the image laterally as my analysis software reads with slit on the right!\n",
    "camera.hflip = True\n",
    "#         capture image with a predetermined size suitable for pixel counting analysis\n",
    "raw_jpg_filename = raw_filename + \".jpg\"\n",
    "camera.capture(raw_jpg_filename, resize=(1296, 972))\n",
    "#camera.capture(raw_jpg_filename, resize=(800, 600))"
   ]
  },
  {
   "cell_type": "code",
   "execution_count": null,
   "metadata": {},
   "outputs": [],
   "source": [
    "camera.hflip = False\n",
    "#         capture image with a predetermined size suitable for pixel counting analysis\n",
    "rawinv_jpg_filename = rawinv_filename + \".jpg\"\n",
    "camera.capture(rawinv_jpg_filename, resize=(1296, 972))\n",
    "#camera.capture(raw_jpg_filename, resize=(800, 600))"
   ]
  },
  {
   "cell_type": "markdown",
   "metadata": {},
   "source": [
    "## Obtaining the Raw Image of the Spectrum"
   ]
  },
  {
   "cell_type": "code",
   "execution_count": null,
   "metadata": {},
   "outputs": [],
   "source": [
    "#       view image and apply putty or tape inside spectroscope to prevent light leakage\n",
    "#       remember - image is flipped laterally from left right!\n",
    "display(Image(raw_jpg_filename))\n",
    "rdslibv1.display_bds_params(name,desc,shutter,slit_topadj,slit_botadj,spectrum_angle,wavelength_factor,samp_th,wlen_th)"
   ]
  },
  {
   "cell_type": "code",
   "execution_count": null,
   "metadata": {},
   "outputs": [],
   "source": [
    "#       view image and apply putty or tape inside spectroscope to prevent light leakage\n",
    "#       remember - image is flipped laterally from left right!\n",
    "display(Image(rawinv_jpg_filename))\n",
    "rdslibv1.display_bds_params(name,desc,shutter,slit_topadj,slit_botadj,spectrum_angle,wavelength_factor,samp_th,wlen_th)"
   ]
  },
  {
   "cell_type": "code",
   "execution_count": null,
   "metadata": {},
   "outputs": [],
   "source": [
    "\n",
    "################## STOP HERE STUDENT/INSTRUCTOR TO VALIDATE STEP 2 ####################\n",
    "## DID THE IMAGE APPEAR ??\n",
    "## IS THE IMAGE OF THE SPECTRUM VISIBLE ??\n",
    "## IS THE IMAGE FLIPPED LATERALLY ?\n",
    "## DOES THE SLIT LOOK OVER EXPOSED ??\n",
    "## DOES THE SPECTRUM LOOK TOO DIM ??\n",
    "\n",
    "# DO NOT GO FORWARD UNTIL INSTRUCTOR VALIDATES"
   ]
  },
  {
   "cell_type": "markdown",
   "metadata": {},
   "source": [
    "## Draw Visual Aperture and Measure Emission Spectral Peaks "
   ]
  },
  {
   "cell_type": "code",
   "execution_count": null,
   "metadata": {},
   "outputs": [],
   "source": [
    "# STEP 3. PROCESS THE IMAGE AND LOCATE THE SLIT (APERTURE)\n",
    "#         READ RAW JPG FILE OBTAINED IN A PIXEL ARRAY\n",
    "#         RECORD THE PIXEL WIDTH AND HEIGHT\n",
    "#         NARROW THE PIXEL WINDOW FOR SLIT TOP AND BOTTOM\n",
    "#         FOR EXAMPLE IMAGE BRIGHTNESS LIGHT LEAKAGE ETC\n",
    "#         DISPLAY CAPTURED IMAGE"
   ]
  },
  {
   "cell_type": "code",
   "execution_count": null,
   "metadata": {},
   "outputs": [],
   "source": [
    "#         READ RAW JPG FILE OBTAINED IN A PIXEL ARRAY\n",
    "im = pilimg.open(raw_jpg_filename)\n",
    "pic_pixels = im.load()\n",
    "#         record the pixel width and height\n",
    "width = im.size[0]\n",
    "height = im.size[1]\n",
    "print(\"width is %d, height is %d\" % (width, height))\n",
    "#        The slit needs to be shortened in height at times due to light leakage\n",
    "#        inside spectrometer. This small adjustment can be made here. \n",
    "#        bigger negative numbers for smaller for bottom slit \n",
    "#        bigger positive numbers for smaller top slit \n",
    "#        for daylight or bright spectrum we need to narrow the slit greatly.\n",
    "#        default values are set above\n",
    "#        Adjust and uncomment below if you need\n",
    "# FINE CALIBRATION\n",
    "#\n",
    "#wavelength_factor = 0.77\n",
    "#spectrum_angle = -0.09\n",
    "#slit_topadj = 30\n",
    "#slit_botadj = -35\n",
    "\n",
    "#        call library function to find the aperture in the raw image (pixel array)\n",
    "aperture = rdslibv1.find_aperture(pic_pixels, width, height, slit_topadj, slit_botadj)\n",
    "#        draw the aperture\n",
    "draw = pildraw.Draw(im)\n",
    "rdslibv1.draw_aperture(aperture, draw)\n"
   ]
  },
  {
   "cell_type": "code",
   "execution_count": null,
   "metadata": {},
   "outputs": [],
   "source": [
    "#        Draw scan line using the Spectrum angle\n",
    "#        This is the angle that the camera and diffration grating makes with the light path\n",
    "#        The Spectrum Angle trignometric tangent of the angle the camera and diffration grating makes \n",
    "#        with the line of sight to the entry slit. This usually does not need to be changed very much \n",
    "#        as it manipulates where in the observation area the spectrum falls. It only needs to be \n",
    "#        approximate such that pixel counter can find it\n",
    "#        default values are set above\n",
    "#        Adjust and uncomment below if you need\n",
    "#        draw the scan lline\n",
    "rdslibv1.draw_scan_line(aperture, draw, spectrum_angle)"
   ]
  },
  {
   "cell_type": "code",
   "execution_count": null,
   "metadata": {},
   "outputs": [],
   "source": [
    "#        The wavelength_factor is the variable used for calibrating the spectroscope such that \n",
    "#        the calibration spectral line matches the known standard for that emission spectrum\n",
    "#        The wavelength_factor is close to 0.90 for the 1000 lines/mm diffration grating\n",
    "#        The wavelength_factor is close to 0.60 for the 500 lines/mm diffration grating\n",
    "#        default values are set above\n",
    "#        Adjust and uncomment below if you need\n",
    "#\n",
    "try:\n",
    "    results, max_result = rdslibv1.draw_graph(draw, pic_pixels, aperture, spectrum_angle, wavelength_factor)\n",
    "except:\n",
    "    camera.close()\n",
    "    print(\"Exception while creating an aperture\")\n",
    "    print(\"This run **** TERMINATED PREMATURELY **** ...\")\n",
    "    print(\"Maybe the result of misaligned light path a very dim spectrum\")\n",
    "    print(\"Adjust Light Path Alignment OR Increase Shutter parameter and try again\")    \n",
    "    raise StopExecution\n",
    "else:\n",
    "    print(\"Producing graphical result\")"
   ]
  },
  {
   "cell_type": "code",
   "execution_count": null,
   "metadata": {},
   "outputs": [],
   "source": [
    "#        Display actual and ideal targets for camera exposure corrections\n",
    "rdslibv1.inform_user_of_exposure(max_result)"
   ]
  },
  {
   "cell_type": "code",
   "execution_count": null,
   "metadata": {},
   "outputs": [],
   "source": [
    "from PIL import ImageOps as pilimgops\n",
    "#       Create the spectrum image overlaid with aperture and scan line\n",
    "ovl_jpg_filename = ovl_filename + \".jpg\"\n",
    "rdslibv1.save_image_with_overlay(im, ovl_jpg_filename)\n",
    "#       Create the spectrum image overlaid with aperture and scan line\n",
    "ovlinv_jpg_filename = ovlinv_filename + \".jpg\"\n",
    "im_mirror = pilimgops.mirror(im)\n",
    "rdslibv1.save_image_with_overlay(im_mirror, ovlinv_jpg_filename)\n"
   ]
  },
  {
   "cell_type": "code",
   "execution_count": null,
   "metadata": {},
   "outputs": [],
   "source": [
    "#       View the Overlaid image fix parameters and rerun STEP 3 ONLY from the beginning as needed\n",
    "display(Image(ovl_jpg_filename))\n",
    "rdslibv1.display_bds_params(name,desc,shutter,slit_topadj,slit_botadj,spectrum_angle,wavelength_factor,samp_th,wlen_th)\n",
    "display(Image(ovlinv_jpg_filename))"
   ]
  },
  {
   "cell_type": "code",
   "execution_count": null,
   "metadata": {},
   "outputs": [],
   "source": [
    "################## STOP HERE STUDENT/INSTRUCTOR TO VALIDATE STEP 3 ####################\n",
    "## IS THE ACTUAL EXPOSURE WITHIN THE TARGET LIMITS ??\n",
    "## DID A RECTANGULAR WINDOW APPEAR OVERLAID ON THE IMAGE  ENCLOSING THE SPECTRUM ??\n",
    "## IS THE SCAN LINE VISIBLE ??\n",
    "## IS THE SCAN LINE ALIGNED WITH THE SLIT ??\n",
    "## IF NOT WE HAVE TO MAKE ADJUSTMENTS BEFORE PROCEEDING\n",
    "## READ INSTRUCTIONS IN VARIOUS CELLS ON THIS STEP\n",
    "## MAKE CHANGES AND ASK FOR ME TO VALIDATE BEFORE PROCEEDING\n",
    "\n",
    "# DO NOT GO FORWARD UNTIL INSTRUCTOR VALIDATES"
   ]
  },
  {
   "cell_type": "markdown",
   "metadata": {},
   "source": [
    "## Display Emission Spectrum and Compare with NIST Standard values"
   ]
  },
  {
   "cell_type": "code",
   "execution_count": null,
   "metadata": {},
   "outputs": [],
   "source": [
    "# STEP 4 FINAL STEP! NORMALIZE AND CREATE/DISPLAY SPECTRUM CHART\n",
    "# MAKE ADJUSTMENTS AND RERUN FROM THE BEGINNING IF NEEDED\n",
    "normalized_results = rdslibv1.normalize_results(results, max_result)"
   ]
  },
  {
   "cell_type": "code",
   "execution_count": null,
   "metadata": {},
   "outputs": [],
   "source": [
    "#       Create the spectrum chart overlaid with the proper wavelengths \n",
    "#       and color map according to frequency\n",
    "cht_png_filename = cht_filename + \".png\"\n",
    "rdslibv1.export_diagram(cht_png_filename, normalized_results)"
   ]
  },
  {
   "cell_type": "code",
   "execution_count": null,
   "metadata": {},
   "outputs": [],
   "source": [
    "#       Print the Spectral Peaks table of wavelengths \n",
    "#       for current spectral image obtained\n",
    "csv_tbl_filename = tbl_filename + \".csv\"\n",
    "rdslibv1.export_csv(tbl_filename, normalized_results)\n",
    "\n",
    "#       Uncomment and change these thresholds if necessary if\n",
    "#       you would like to increase or decrease the number\n",
    "#       of Spectral peaks found\n",
    "\n",
    "#samp_th = 0.2\n",
    "#wlen_th = 10\n",
    "#       Call function to draw the Spectral Peaks which will\n",
    "#       Plot the peaks and return a list of Peak Wavelengths\n",
    "pks_png_filename = pks_filename + \".png\"\n",
    "pwl, t1, t2 = rdslibv1.draw_spectral_line_peaks(element,csv_tbl_filename, pks_png_filename, desc, samp_th, wlen_th)\n",
    "rdslibv1.display_bds_params(name,desc,shutter,slit_topadj,slit_botadj,spectrum_angle,wavelength_factor,samp_th,wlen_th)\n",
    "par_txt_filename = par_filename + \".txt\"\n",
    "rdslibv1.write_bds_params(par_txt_filename,name,desc,shutter,slit_topadj,slit_botadj,spectrum_angle,wavelength_factor,samp_th,wlen_th)"
   ]
  },
  {
   "cell_type": "code",
   "execution_count": null,
   "metadata": {},
   "outputs": [],
   "source": [
    "#display(Image(cht_png_filename))\n",
    "#bdslibv2.display_bds_params(name,desc,shutter,slit_topadj,slit_botadj,spectrum_angle,wavelength_factor,samp_th,wlen_th)\n",
    "clr_png_filename = clr_filename + \".png\"\n",
    "rdslibv1.draw_spectral_color_fill_chart(element,csv_tbl_filename, clr_png_filename, desc, samp_th, wlen_th, t1, t2)\n",
    "rdslibv1.display_bds_params(name,desc,shutter,slit_topadj,slit_botadj,spectrum_angle,wavelength_factor,samp_th,wlen_th)"
   ]
  },
  {
   "cell_type": "code",
   "execution_count": null,
   "metadata": {},
   "outputs": [],
   "source": [
    "pattern = pilimg.open(cht_png_filename).convert('RGBA')\n",
    "#txt = pilimg.new('RGBA', pattern.size, (255,255,255,0))\n",
    "size = width, height = pattern.size\n",
    "draw = pildraw.Draw(pattern,'RGBA')\n",
    "font = pilfont.truetype('/usr/share/fonts/truetype/lato/Lato-Regular.ttf', 12)\n",
    "#print(size)\n",
    "draw.text((0,0), desc.upper(), font=font, fill='#000')\n",
    "draw.text((0,20), t1, font=font, fill='#000')\n",
    "draw.text((0,40), t2, font=font, fill='#000')\n",
    "#draw.text((0,100), \"Hello World\", (0, 0, 0, 0),font=font)\n",
    "pattern.save(cht_png_filename)"
   ]
  },
  {
   "cell_type": "code",
   "execution_count": null,
   "metadata": {},
   "outputs": [],
   "source": [
    "camera.close()"
   ]
  },
  {
   "cell_type": "code",
   "execution_count": null,
   "metadata": {},
   "outputs": [],
   "source": [
    "################## STOP HERE STUDENT/INSTRUCTOR TO VALIDATE STEP 4 FINAL STEP ####################\n",
    "## CONGRATULATIONS - YOU MADE A FANCY DIGITAL SPECTROSCOPE AND MADE YOUR FIRST MEASUREMENTS!\n",
    "## \n",
    "## DID THE SPECTRAL CHART APPEAR ??\n",
    "## DOES THE CHART LOOK CORRECT ??\n",
    "## DOES IT MATCH WITH THE STANDARD FOR ELEMENTS FOUND IN THE STANDARD SPECTRUM ??\n",
    "## IF NOT WE WILL MAKE ADJUSTMENTS TO PARAMETERS ABOVE AS DOCUMENTED\n",
    "## MAKE CHANGES AND ASK FOR ME TO VALIDATE BEFORE PROCEEDING\n",
    "\n",
    "# DO NOT GO FORWARD UNTIL INSTRUCTOR VALIDATES\n",
    "# WHEN YOU HAVE GOOD RESULTS PRINT FROM THE \"FILE->PRINT PREVIEW\" FROM\n",
    "# THE JUPYTER NOTEBOOK AND GET THIS NOTEBOOK PRINTED FOR VALIDATION!"
   ]
  },
  {
   "cell_type": "code",
   "execution_count": null,
   "metadata": {},
   "outputs": [],
   "source": []
  },
  {
   "cell_type": "code",
   "execution_count": null,
   "metadata": {},
   "outputs": [],
   "source": []
  }
 ],
 "metadata": {
  "hide_input": false,
  "kernelspec": {
   "display_name": "Python 3",
   "language": "python",
   "name": "python3"
  },
  "language_info": {
   "codemirror_mode": {
    "name": "ipython",
    "version": 3
   },
   "file_extension": ".py",
   "mimetype": "text/x-python",
   "name": "python",
   "nbconvert_exporter": "python",
   "pygments_lexer": "ipython3",
   "version": "3.7.3"
  },
  "toc": {
   "base_numbering": 1,
   "nav_menu": {},
   "number_sections": true,
   "sideBar": true,
   "skip_h1_title": false,
   "title_cell": "Table of Contents",
   "title_sidebar": "Contents",
   "toc_cell": true,
   "toc_position": {
    "height": "981px",
    "left": "30px",
    "top": "110px",
    "width": "212px"
   },
   "toc_section_display": false,
   "toc_window_display": false
  },
  "varInspector": {
   "cols": {
    "lenName": 16,
    "lenType": 16,
    "lenVar": 40
   },
   "kernels_config": {
    "python": {
     "delete_cmd_postfix": "",
     "delete_cmd_prefix": "del ",
     "library": "var_list.py",
     "varRefreshCmd": "print(var_dic_list())"
    },
    "r": {
     "delete_cmd_postfix": ") ",
     "delete_cmd_prefix": "rm(",
     "library": "var_list.r",
     "varRefreshCmd": "cat(var_dic_list()) "
    }
   },
   "types_to_exclude": [
    "module",
    "function",
    "builtin_function_or_method",
    "instance",
    "_Feature"
   ],
   "window_display": false
  }
 },
 "nbformat": 4,
 "nbformat_minor": 2
}
